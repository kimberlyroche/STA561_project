{
 "cells": [
  {
   "cell_type": "code",
   "execution_count": 34,
   "metadata": {
    "collapsed": true
   },
   "outputs": [],
   "source": [
    "api_token = '065b723226b49f774f424e649f05b501'"
   ]
  },
  {
   "cell_type": "code",
   "execution_count": 37,
   "metadata": {},
   "outputs": [
    {
     "name": "stdout",
     "output_type": "stream",
     "text": [
      "Pulling page 1...\n",
      "Pulling page 2...\n",
      "Pulled 40 movie titles.\n"
     ]
    }
   ],
   "source": [
    "import tmdbsimple as tmdb\n",
    "import os\n",
    "import uuid\n",
    "import time\n",
    "import PIL\n",
    "from PIL import Image\n",
    "\n",
    "tmdb.API_KEY = api_token\n",
    "\n",
    "poster_folder = 'posters'\n",
    "metadata_folder = 'metadata'\n",
    "\n",
    "# clear folders\n",
    "def empty_folder(folder):\n",
    "    for the_file in os.listdir(folder):\n",
    "        file_path = os.path.join(folder, the_file)\n",
    "        try:\n",
    "            if os.path.isfile(file_path):\n",
    "                os.unlink(file_path)\n",
    "        except Exception as e:\n",
    "            print(e)\n",
    "\n",
    "empty_folder(poster_folder)\n",
    "empty_folder(metadata_folder)\n",
    "\n",
    "all_movies = tmdb.Movies()\n",
    "\n",
    "movie_titles = []\n",
    "\n",
    "# iterate movies list in pages [1, N)\n",
    "# each \"page\" has 20 movies\n",
    "for i in range(1,3):\n",
    "    print(\"Pulling page \" + str(i) + \"...\")\n",
    "    paged_movies = all_movies.popular(page=i)['results']\n",
    "    for movie in paged_movies:\n",
    "        movie_titles.append(movie['title'])\n",
    "    time.sleep(5)\n",
    "\n",
    "print(\"Pulled \" + str(len(movie_titles)) + \" movie titles.\")"
   ]
  },
  {
   "cell_type": "code",
   "execution_count": 40,
   "metadata": {},
   "outputs": [],
   "source": [
    "for title in movie_titles:\n",
    "    # assign a uuid\n",
    "    uuid_no = uuid.uuid4()\n",
    "    f = open(os.path.join(metadata_folder, str(uuid_no)) + \".txt\", \"w+\")\n",
    "    f.write(\"title\\t\" + title + \"\\n\")\n",
    "    # pull movie ID and poster path\n",
    "    response = tmdb.Search().movie(query=title)\n",
    "    id = response['results'][0]['id']\n",
    "    movie = tmdb.Movies(id)\n",
    "    poster = movie.info()['poster_path']\n",
    "    poster_url = 'image.tmdb.org/t/p/original' + poster\n",
    "    # save poster\n",
    "    image_filename = str(uuid_no) + \".jpg\"\n",
    "    image_path = os.path.join(poster_folder, image_filename)\n",
    "    strcmd = 'wget -O ' + image_path + ' ' + poster_url\n",
    "    os.system(strcmd)\n",
    "    # resize images\n",
    "    img = Image.open(image_path)\n",
    "    img = img.resize((300, 400), PIL.Image.ANTIALIAS)\n",
    "    img.save(image_path)\n",
    "    # save metadata\n",
    "    info = movie.info()\n",
    "    f.write(\"genre\")\n",
    "    for genre in info['genres']:\n",
    "        f.write(\"\\t\" + genre['name'])\n",
    "    f.write(\"\\n\")\n",
    "    f.write(\"original_language\\t\" + info['original_language'] + \"\\n\")\n",
    "    f.write(\"release_date\\t\" + info['release_date'] + \"\\n\")\n",
    "    f.close()\n"
   ]
  },
  {
   "cell_type": "code",
   "execution_count": null,
   "metadata": {
    "collapsed": true
   },
   "outputs": [],
   "source": []
  }
 ],
 "metadata": {
  "kernelspec": {
   "display_name": "Python 3",
   "language": "python",
   "name": "python3"
  },
  "language_info": {
   "codemirror_mode": {
    "name": "ipython",
    "version": 3
   },
   "file_extension": ".py",
   "mimetype": "text/x-python",
   "name": "python",
   "nbconvert_exporter": "python",
   "pygments_lexer": "ipython3",
   "version": "3.6.3"
  }
 },
 "nbformat": 4,
 "nbformat_minor": 2
}
